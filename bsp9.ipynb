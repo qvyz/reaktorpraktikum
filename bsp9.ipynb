{
 "cells": [
  {
   "cell_type": "code",
   "execution_count": 27,
   "metadata": {},
   "outputs": [
    {
     "name": "stdout",
     "output_type": "stream",
     "text": [
      "[13.900000000000006, 13.199999999999989, 14.700000000000003, 18.0, 16.400000000000002, 21.2, 2.83]\n"
     ]
    },
    {
     "data": {
      "text/plain": [
       "Text(0, 0.5, 'Reaktivitaet[$]')"
      ]
     },
     "execution_count": 27,
     "metadata": {},
     "output_type": "execute_result"
    },
    {
     "data": {
      "image/png": "[encoded data removed]",
      "text/plain": [
       "<Figure size 432x288 with 1 Axes>"
      ]
     },
     "metadata": {
      "needs_background": "light"
     },
     "output_type": "display_data"
    }
   ],
   "source": [
    "import numpy as np\n",
    "\n",
    "stabstellung = [\n",
    "80,\n",
    "100,\n",
    "125,\n",
    "150,\n",
    "175,\n",
    "200,\n",
    "225,\n",
    "250,\n",
    "275,\n",
    "382\n",
    "]\n",
    "rho_abs=[-100,-86.1,-72.9,-58.2,-40.2,-23.8,-2.6]\n",
    "delta_rho = []\n",
    "\n",
    "\n",
    "stabstellung_low  = [0,10,20,30,40,50,60]\n",
    "reaktivitaet = [\n",
    "\n",
    "0.23,\n",
    "0.23,\n",
    "0.31,\n",
    "0.32,\n",
    "0.3,\n",
    "0.28,\n",
    "0.27,\n",
    "0.21,\n",
    "0.16,\n",
    "0.23\n",
    "]\n",
    "for index,value in enumerate(rho_abs):\n",
    "    if index == len(rho_abs )- 1:\n",
    "        delta_rho.append(reaktivitaet[0] - rho_abs[index])\n",
    "        break\n",
    "    else:\n",
    "        delta_rho.append(rho_abs[index + 1]  - rho_abs[index])\n",
    "\n",
    "reaktivitaet = [100 * i for i in reaktivitaet]\n",
    "# reaktivitaet = delta_rho + (reaktivitaet )\n",
    "print(delta_rho)\n",
    "stabstellung = stabstellung_low + stabstellung\n",
    "reaktivitaet_sum = []\n",
    "for index,value in enumerate(reaktivitaet):\n",
    "    if index == 0:\n",
    "        reaktivitaet_sum.append(reaktivitaet[index])\n",
    "    else:\n",
    "        reaktivitaet_sum.append(reaktivitaet[index] + reaktivitaet_sum[index - 1])\n",
    "reaktivitaet_sum = rho_abs + reaktivitaet_sum\n",
    "import matplotlib.pyplot as plt\n",
    "plt.plot(stabstellung,reaktivitaet_sum,\"o-\")\n",
    "plt.xlabel(\"Stabstellung[mm]\")\n",
    "plt.ylabel(\"Reaktivitaet[$]\")"
   ]
  }
 ],
 "metadata": {
  "kernelspec": {
   "display_name": "Python 3",
   "language": "python",
   "name": "python3"
  },
  "language_info": {
   "codemirror_mode": {
    "name": "ipython",
    "version": 3
   },
   "file_extension": ".py",
   "mimetype": "text/x-python",
   "name": "python",
   "nbconvert_exporter": "python",
   "pygments_lexer": "ipython3",
   "version": "3.8.10"
  }
 },
 "nbformat": 4,
 "nbformat_minor": 2
}
