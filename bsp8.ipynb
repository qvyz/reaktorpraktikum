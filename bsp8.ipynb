{
 "cells": [
  {
   "cell_type": "code",
   "execution_count": 10,
   "metadata": {},
   "outputs": [
    {
     "name": "stdout",
     "output_type": "stream",
     "text": [
      "[0.23, 0.46, 0.77, 1.09, 1.3900000000000001, 1.6700000000000002, 1.9400000000000002, 2.1500000000000004, 2.3100000000000005, 2.5400000000000005]\n"
     ]
    },
    {
     "data": {
      "text/plain": [
       "[<matplotlib.lines.Line2D at 0x7fd0ad60df40>]"
      ]
     },
     "execution_count": 10,
     "metadata": {},
     "output_type": "execute_result"
    },
    {
     "data": {
      "image/png": "[encoded data removed]",
      "text/plain": [
       "<Figure size 432x288 with 1 Axes>"
      ]
     },
     "metadata": {
      "needs_background": "light"
     },
     "output_type": "display_data"
    }
   ],
   "source": [
    "import numpy as np\n",
    "\n",
    "stabstellung = [\n",
    "80,\n",
    "100,\n",
    "125,\n",
    "150,\n",
    "175,\n",
    "200,\n",
    "225,\n",
    "250,\n",
    "275,\n",
    "382\n",
    "]\n",
    "\n",
    "reaktivitaet = [\n",
    "0.23,\n",
    "0.23,\n",
    "0.31,\n",
    "0.32,\n",
    "0.3,\n",
    "0.28,\n",
    "0.27,\n",
    "0.21,\n",
    "0.16,\n",
    "0.23\n",
    "]\n",
    "\n",
    "reaktivitaet_sum = []\n",
    "for index,value in enumerate(reaktivitaet):\n",
    "    if index == 0:\n",
    "        reaktivitaet_sum.append(reaktivitaet[index])\n",
    "    else:\n",
    "        reaktivitaet_sum.append(reaktivitaet[index] + reaktivitaet_sum[index - 1])\n",
    "print(reaktivitaet_sum)\n",
    "import matplotlib.pyplot as plt\n",
    "plt.plot(stabstellung,reaktivitaet_sum,\"o-\")"
   ]
  }
 ],
 "metadata": {
  "kernelspec": {
   "display_name": "Python 3",
   "language": "python",
   "name": "python3"
  },
  "language_info": {
   "codemirror_mode": {
    "name": "ipython",
    "version": 3
   },
   "file_extension": ".py",
   "mimetype": "text/x-python",
   "name": "python",
   "nbconvert_exporter": "python",
   "pygments_lexer": "ipython3",
   "version": "3.8.10"
  }
 },
 "nbformat": 4,
 "nbformat_minor": 2
}
