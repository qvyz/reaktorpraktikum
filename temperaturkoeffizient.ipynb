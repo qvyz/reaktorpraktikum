{
 "cells": [
  {
   "cell_type": "markdown",
   "metadata": {},
   "source": [
    "Gedanke: \n",
    "$\\rho = \\frac{k}{k-1}$\n",
    "\n",
    "bedeutet: änderung der neutronen pro generation (handwavy).\n",
    "wenn \n",
    "$\\rho =  1$ \n",
    "Reaktor gerade kritisch. \n",
    "\n",
    "Trimmstab Kalibrierung nach \n",
    "$\\rho$ \n",
    "siehe bsp 8 u 9.\n",
    "\n",
    "Waere temp. koeffizient   0\n",
    "\n",
    "\n",
    "$\\rho = 1$ unabhängig von temperatur d.h. Trimmstab immer auf selber position bei $\\rho = 1$\n",
    "\n",
    "unabhängig von reaktorleistung (mein denkfehler).\n",
    "\n",
    "Da negativer Tempkoeffizient. \n",
    "\n",
    "$\\rho = 1 $ bei stabposition: 100 mm, 10 W und BE temp 20 (falsch im protokoll) \n",
    "$\\rho = 1 $ bei stabposition: 168 mm, 100kW un BE temp 92\n",
    "\n",
    "in beiden Fällen ist die Stabposition der anderen stäbe gleich\n",
    "Das bedeutet: um den Reaktor bei  konstanter Leistung zu halten muss der Regelstab weiter aus dem Kern gezogen werden.\n",
    "\n",
    "Übersimplifizierte antwort: Reaktor Funktioniert schlechter, bei höherer temperatur.\n",
    "Oder anders Formuliert: \n",
    " stabposition bei der :\n",
    "\n",
    "$\\rho_{T=20} = 1 $\n",
    "\n",
    "ist niedriger => absorbiert stärker \n",
    "\n",
    "als\n",
    "\n",
    "$\\rho_{T=92} = 1 $\n",
    "\n",
    "ist höher => absorbiert schwächer.\n",
    "\n",
    "Deshalb:\n",
    "\n",
    "$\\frac{\\Delta\\rho}{\\Delta T} = \\frac{0.473 -1.272}{92 - 19.4} = 0.011 D $\n",
    "od. 1.1 cent \n"
   ]
  },
  {
   "cell_type": "markdown",
   "metadata": {},
   "source": []
  },
  {
   "cell_type": "markdown",
   "metadata": {},
   "source": []
  },
  {
   "cell_type": "code",
   "execution_count": 3,
   "metadata": {},
   "outputs": [
    {
     "name": "stdout",
     "output_type": "stream",
     "text": [
      "-0.011005597636579517\n"
     ]
    }
   ],
   "source": [
    "x =  0.47377981260647346 - 1.2727862010221463 \n",
    "y =  92 - 19.4 \n",
    "print(x/y)"
   ]
  }
 ],
 "metadata": {
  "kernelspec": {
   "display_name": "base",
   "language": "python",
   "name": "python3"
  },
  "language_info": {
   "codemirror_mode": {
    "name": "ipython",
    "version": 3
   },
   "file_extension": ".py",
   "mimetype": "text/x-python",
   "name": "python",
   "nbconvert_exporter": "python",
   "pygments_lexer": "ipython3",
   "version": "3.9.16"
  }
 },
 "nbformat": 4,
 "nbformat_minor": 2
}
