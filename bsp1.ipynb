{
 "cells": [
  {
   "cell_type": "code",
   "execution_count": 43,
   "metadata": {},
   "outputs": [],
   "source": [
    "#const:\n",
    "# time now: 14:19\n",
    "import time \n",
    "\n",
    "\n",
    "\n",
    "# FCD = \n",
    "def thermact(CCd, ct):\n",
    "    e = (1 - (FCD *(CCd/Ct))) * 100\n",
    "    return e\n",
    "\n",
    "#const\n",
    "# PhiZero = \n",
    "# Phi = PhiZero * 0.294\n",
    "# def power() \n",
    "\n",
    "\n",
    "\n",
    "\n",
    "\n",
    "\n",
    "import numpy as np\n",
    "R = 0.3329\n",
    "S = 0.6989\n",
    "m = 0.0079\n",
    "mu = 0.3\n",
    "constanteneins = (2/(R*m*S*mu*np.sqrt(np.pi)))* np.sqrt(1.07)\n",
    "\n",
    "constantenzwei = 1/(1 - np.exp(- 1.783*10**(-4) * 10))\n",
    "    \n",
    "\n"
   ]
  },
  {
   "cell_type": "markdown",
   "metadata": {},
   "source": []
  },
  {
   "cell_type": "code",
   "execution_count": 63,
   "metadata": {},
   "outputs": [
    {
     "name": "stdout",
     "output_type": "stream",
     "text": [
      "0\n",
      "2\n",
      "4\n",
      "6\n",
      "8\n",
      "5\n"
     ]
    },
    {
     "data": {
      "image/png": "[encoded data removed]",
      "text/plain": [
       "<Figure size 432x288 with 1 Axes>"
      ]
     },
     "metadata": {
      "needs_background": "light"
     },
     "output_type": "display_data"
    }
   ],
   "source": [
    "def fluss(aau,acd,tone,ttwo):\n",
    "    x = (constanteneins * constantenzwei * 1/0.9766 )\n",
    "    fluss = x * (aau * np.exp(- 1.783*10**(-4) * tone)) - (1.22 * acd * np.exp(- 1.783*10**(-4) * ttwo))\n",
    "    return fluss\n",
    "\n",
    "\n",
    "a = [\n",
    "196.8,\n",
    "80.46,\n",
    "133.4,\n",
    "68.22,\n",
    "134.6,\n",
    "46.44,\n",
    "89.18,\n",
    "34.5,\n",
    "64.28,\n",
    "25.66\n",
    "]\n",
    "times = [\n",
    "113,\n",
    "115,\n",
    "121,\n",
    "124,\n",
    "128,\n",
    "131,\n",
    "134,\n",
    "137,\n",
    "142,\n",
    "144\n",
    "]\n",
    "errors = [\n",
    "0.7,\n",
    "1.1,\n",
    "0.8,\n",
    "1.2,\n",
    "0.8,\n",
    "1.5,\n",
    "1,\n",
    "1.9,\n",
    "1.3,\n",
    "2.3\n",
    "]\n",
    "errs = []\n",
    "\n",
    "dist = [5.3,10.6,13.5,18.5,21.3]\n",
    "\n",
    "flow = []\n",
    "for i in range(0,len(a),2):\n",
    "    print(i)\n",
    "    flow.append(fluss(a[i],a[i+1],times[i],times[i+1]))\n",
    "\n",
    "\n",
    "print(len(flow))\n",
    "import matplotlib.pyplot as plt\n",
    "\n",
    "\n",
    "\n",
    "\n",
    "\n",
    "for  i in range(0,len(errors),2):\n",
    "    errs.append(errors[i] + errors[i+1])\n",
    "\n",
    "\n",
    "plt.errorbar(x = dist, y = flow, yerr = errs)\n",
    "plt.show()"
   ]
  }
 ],
 "metadata": {
  "kernelspec": {
   "display_name": "Python 3",
   "language": "python",
   "name": "python3"
  },
  "language_info": {
   "codemirror_mode": {
    "name": "ipython",
    "version": 3
   },
   "file_extension": ".py",
   "mimetype": "text/x-python",
   "name": "python",
   "nbconvert_exporter": "python",
   "pygments_lexer": "ipython3",
   "version": "3.8.10"
  }
 },
 "nbformat": 4,
 "nbformat_minor": 2
}
