{
 "cells": [
  {
   "cell_type": "code",
   "execution_count": 58,
   "metadata": {},
   "outputs": [],
   "source": [
    "import numpy as np \n",
    "g = 3.828*10**-2 # gewicht\n",
    "isotopenhaufigkeit = 0.9172\n",
    "sigmaeff = 1.27*10**-26\n",
    "M = 55.845 #mol masse eisen\n",
    "S = 0.51 # ?\n",
    "R = 0.332 # effektivität 2 pi detektor\n",
    "A = 573.7 # aktivität\n",
    "F = 0.192 # fläche\n",
    "L = 6.02252*10**23 # avogadrockonstante\n",
    "\n",
    "x = M * XX /(g * L * isotopenhaufigkeit * 0.5)\n",
    "\n",
    "\n",
    "t_abk = 151 #abklingzeit in min\n",
    "t_abs = 10 # bestrahlungszeit in min"
   ]
  },
  {
   "cell_type": "markdown",
   "metadata": {},
   "source": []
  },
  {
   "cell_type": "markdown",
   "metadata": {},
   "source": [
    "\\rho ={\\frac {l^{*}}{T_{p}}}+\\sum _{i=1}^{6}{\\frac {\\beta _{i}}{1+\\lambda _{i}T_{p}}}\n"
   ]
  },
  {
   "cell_type": "code",
   "execution_count": 59,
   "metadata": {},
   "outputs": [
    {
     "data": {
      "text/plain": [
       "507406.67320457933"
      ]
     },
     "execution_count": 59,
     "metadata": {},
     "output_type": "execute_result"
    }
   ],
   "source": [
    "x * 1/sigmaeff"
   ]
  }
 ],
 "metadata": {
  "kernelspec": {
   "display_name": "base",
   "language": "python",
   "name": "python3"
  },
  "language_info": {
   "codemirror_mode": {
    "name": "ipython",
    "version": 3
   },
   "file_extension": ".py",
   "mimetype": "text/x-python",
   "name": "python",
   "nbconvert_exporter": "python",
   "pygments_lexer": "ipython3",
   "version": "3.9.16"
  }
 },
 "nbformat": 4,
 "nbformat_minor": 2
}
