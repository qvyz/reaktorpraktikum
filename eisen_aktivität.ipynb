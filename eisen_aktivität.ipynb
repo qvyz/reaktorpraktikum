{
 "cells": [
  {
   "cell_type": "code",
   "execution_count": 14,
   "metadata": {},
   "outputs": [
    {
     "name": "stdout",
     "output_type": "stream",
     "text": [
      "6.253505e+10\n"
     ]
    }
   ],
   "source": [
    "import numpy as np \n",
    "g = 3.828*10**-2 # gewicht\n",
    "isotopenhaufigkeit = 0.9172\n",
    "sigmaeff = 1.26*10**-26\n",
    "M = 55.845 #mol masse eisen\n",
    "S = 0.51 # ?\n",
    "R = 0.332 # effektivität 2 pi detektor\n",
    "A = 573.7 # aktivität\n",
    "F = 0.192 # fläche\n",
    "L = 6.02252*10**23 # avogadrockonstante\n",
    "t_12 = 178 # min\n",
    "\n",
    "t_abk = 151 #abklingzeit in min\n",
    "t_akt = 10 # bestrahlungszeit in min\n",
    "\n",
    "\n",
    "test = A * M/(g * L * isotopenhaufigkeit * 0.32 * 0.51) * 1/sigmaeff * 1/((1- np.exp(-np.log(2)*t_akt/t_12))*np.exp(-np.log(2)*2*t_abk/t_12))\n",
    "print(\"{:e}\".format(test))"
   ]
  },
  {
   "cell_type": "markdown",
   "metadata": {},
   "source": []
  },
  {
   "cell_type": "markdown",
   "metadata": {},
   "source": []
  },
  {
   "cell_type": "code",
   "execution_count": null,
   "metadata": {},
   "outputs": [],
   "source": []
  }
 ],
 "metadata": {
  "kernelspec": {
   "display_name": "base",
   "language": "python",
   "name": "python3"
  },
  "language_info": {
   "codemirror_mode": {
    "name": "ipython",
    "version": 3
   },
   "file_extension": ".py",
   "mimetype": "text/x-python",
   "name": "python",
   "nbconvert_exporter": "python",
   "pygments_lexer": "ipython3",
   "version": "3.9.16"
  }
 },
 "nbformat": 4,
 "nbformat_minor": 2
}
